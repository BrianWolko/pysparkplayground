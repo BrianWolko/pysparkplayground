{
 "cells": [
  {
   "cell_type": "code",
   "execution_count": 1,
   "id": "9916f4e2",
   "metadata": {},
   "outputs": [
    {
     "ename": "NameError",
     "evalue": "name '__file__' is not defined",
     "output_type": "error",
     "traceback": [
      "\u001b[31m---------------------------------------------------------------------------\u001b[39m",
      "\u001b[31mNameError\u001b[39m                                 Traceback (most recent call last)",
      "\u001b[36mCell\u001b[39m\u001b[36m \u001b[39m\u001b[32mIn[1]\u001b[39m\u001b[32m, line 4\u001b[39m\n\u001b[32m      2\u001b[39m \u001b[38;5;28;01mimport\u001b[39;00m\u001b[38;5;250m \u001b[39m\u001b[34;01msys\u001b[39;00m\n\u001b[32m      3\u001b[39m \u001b[38;5;28;01mimport\u001b[39;00m\u001b[38;5;250m \u001b[39m\u001b[34;01mos\u001b[39;00m\n\u001b[32m----> \u001b[39m\u001b[32m4\u001b[39m sys.path.insert(\u001b[32m0\u001b[39m, os.path.abspath(os.path.join(os.path.dirname(\u001b[34;43m__file__\u001b[39;49m), \u001b[33m'\u001b[39m\u001b[33m../\u001b[39m\u001b[33m'\u001b[39m)))\n\u001b[32m      6\u001b[39m \u001b[38;5;28;01mfrom\u001b[39;00m\u001b[38;5;250m \u001b[39m\u001b[34;01msrc\u001b[39;00m\u001b[34;01m.\u001b[39;00m\u001b[34;01mstep1\u001b[39;00m\u001b[38;5;250m \u001b[39m\u001b[38;5;28;01mimport\u001b[39;00m load_data\n",
      "\u001b[31mNameError\u001b[39m: name '__file__' is not defined"
     ]
    }
   ],
   "source": [
    "from pyspark.sql.functions import col, mean, when, round\n",
    "import sys\n",
    "import os\n",
    "sys.path.insert(0, os.path.abspath(os.path.join(os.path.dirname(__file__), '../')))\n",
    "\n",
    "from src.step1 import load_data"
   ]
  },
  {
   "cell_type": "code",
   "execution_count": null,
   "id": "6f7cd838",
   "metadata": {},
   "outputs": [],
   "source": [
    "# Task 2.1 Compute the mean value for 'price' within each 'neighbourhood_group'\n",
    "def mean_price_per_grp(df):\n",
    "  return df.groupBy(\"neighbourhood_group\").mean(\"price\")"
   ]
  },
  {
   "cell_type": "code",
   "execution_count": null,
   "id": "95f322b8",
   "metadata": {},
   "outputs": [],
   "source": [
    "# Task 2.2 Join the computed mean price with the original dataset\n",
    "def join_mean_price(df, mean_price_df):\n",
    "    pass"
   ]
  },
  {
   "cell_type": "code",
   "execution_count": null,
   "id": "4d93ea79",
   "metadata": {},
   "outputs": [],
   "source": [
    "# Task 2.3 Replace missing 'price' values with the mean of the corresponding 'neighbourhood_group'\n",
    "def fill_missing_price(df):\n",
    "  pass"
   ]
  },
  {
   "cell_type": "code",
   "execution_count": null,
   "id": "44cb56b2",
   "metadata": {},
   "outputs": [],
   "source": [
    "# Task 2.4 Drop the temporary 'mean_price' column\n",
    "def drop_mean_price(df):\n",
    "    pass"
   ]
  },
  {
   "cell_type": "code",
   "execution_count": null,
   "id": "3554f31c",
   "metadata": {},
   "outputs": [],
   "source": [
    "# Task 2.5 Compute the median of 'number_of_reviews'\n",
    "def reviews_median(df):\n",
    "    pass"
   ]
  },
  {
   "cell_type": "code",
   "execution_count": null,
   "id": "140f922d",
   "metadata": {},
   "outputs": [],
   "source": [
    "# Task 2.6 Fill missing values with the computed median\n",
    "def fill_missing_reviews(df, median_value):\n",
    "    pass"
   ]
  },
  {
   "cell_type": "code",
   "execution_count": null,
   "id": "53220ad0",
   "metadata": {},
   "outputs": [],
   "source": [
    "df = load_data()\n",
    "\n",
    "mean_price_per_grp(df).show(5)"
   ]
  }
 ],
 "metadata": {
  "kernelspec": {
   "display_name": "Python 3",
   "language": "python",
   "name": "python3"
  },
  "language_info": {
   "codemirror_mode": {
    "name": "ipython",
    "version": 3
   },
   "file_extension": ".py",
   "mimetype": "text/x-python",
   "name": "python",
   "nbconvert_exporter": "python",
   "pygments_lexer": "ipython3",
   "version": "3.13.1"
  }
 },
 "nbformat": 4,
 "nbformat_minor": 5
}
